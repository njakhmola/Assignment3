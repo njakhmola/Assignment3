{
 "cells": [
  {
   "cell_type": "markdown",
   "metadata": {},
   "source": [
    "# Answer 1"
   ]
  },
  {
   "cell_type": "code",
   "execution_count": 5,
   "metadata": {},
   "outputs": [
    {
     "name": "stdout",
     "output_type": "stream",
     "text": [
      "0.26666666666666666\n"
     ]
    }
   ],
   "source": [
    "pA = 0.30\n",
    "pB = 0.16\n",
    "pAipfB = 0.5\n",
    "pBipfA = (pAipfB*pB)/pA\n",
    "print(pBipfA)\n"
   ]
  },
  {
   "cell_type": "markdown",
   "metadata": {},
   "source": [
    "# Answer 2"
   ]
  },
  {
   "cell_type": "code",
   "execution_count": 11,
   "metadata": {},
   "outputs": [
    {
     "name": "stdout",
     "output_type": "stream",
     "text": [
      "0.5882352941176471\n"
     ]
    }
   ],
   "source": [
    "pE1 = 0.5 ##probability of bag1 is selected\n",
    "pE2 = 0.5 ##probability of bag2 is selected \n",
    "##Let B be an event of drawing black ball\n",
    "pBfE1 = 0.6 ##probability of drawing black ball from bag E1\n",
    "pBfE2 = 0.42##probability of drawing black ball from bag E2\n",
    "## Bayes Theorem\n",
    "pE1fB = (pBfE1 * pE1)/((pBfE1 * pE1)+(pBfE2 * pE2))\n",
    "print(pE1fB)\n"
   ]
  },
  {
   "cell_type": "markdown",
   "metadata": {},
   "source": [
    "# Answer 3"
   ]
  },
  {
   "cell_type": "code",
   "execution_count": 14,
   "metadata": {},
   "outputs": [
    {
     "name": "stdout",
     "output_type": "stream",
     "text": [
      "0.31\n"
     ]
    }
   ],
   "source": [
    "\n",
    "##E=Event when the man reports four in throwing a dice\n",
    "##F1=Four Occurs\n",
    "##F2==Four doesn't occur\n",
    "pF1=0.25\n",
    "pF2=0.75\n",
    "pEfF1=0.66 ##p(E/F1)=probability that man rerports four and four has occured\n",
    "pEfF2=0.33 ##p(E/F2)=probability that man reports four and it does'nt occur\n",
    "##Applying Bayes Theorem\n",
    "pF1fE=(pEfF1)*(pF1)/(pEfF1)*(pF1)+(pEfF2)*(pF2) ##pS1dE=probability that four has occured and the person is truth.\n",
    "print(pF1fE)\n"
   ]
  },
  {
   "cell_type": "code",
   "execution_count": null,
   "metadata": {},
   "outputs": [],
   "source": []
  },
  {
   "cell_type": "code",
   "execution_count": null,
   "metadata": {},
   "outputs": [],
   "source": []
  }
 ],
 "metadata": {
  "kernelspec": {
   "display_name": "Python 3",
   "language": "python",
   "name": "python3"
  },
  "language_info": {
   "codemirror_mode": {
    "name": "ipython",
    "version": 3
   },
   "file_extension": ".py",
   "mimetype": "text/x-python",
   "name": "python",
   "nbconvert_exporter": "python",
   "pygments_lexer": "ipython3",
   "version": "3.6.5"
  }
 },
 "nbformat": 4,
 "nbformat_minor": 2
}
